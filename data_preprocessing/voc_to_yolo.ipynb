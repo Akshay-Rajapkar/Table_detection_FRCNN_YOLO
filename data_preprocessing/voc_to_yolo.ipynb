{
 "cells": [
  {
   "cell_type": "code",
   "execution_count": 1,
   "metadata": {},
   "outputs": [],
   "source": [
    "import numpy as np\n",
    "import pandas as pd\n",
    "import matplotlib.pyplot as plt\n",
    "import seaborn as sns\n",
    "import xml.etree.ElementTree as ET\n",
    "import glob\n",
    "import os\n",
    "from pathlib import Path\n",
    "import random\n",
    "import shutil\n",
    "from tqdm import tqdm\n",
    "\n",
    "%matplotlib inline\n",
    "random.seed(0)"
   ]
  },
  {
   "cell_type": "code",
   "execution_count": 2,
   "metadata": {},
   "outputs": [],
   "source": [
    "from sklearn.model_selection import train_test_split"
   ]
  },
  {
   "cell_type": "code",
   "execution_count": 3,
   "metadata": {},
   "outputs": [
    {
     "data": {
      "text/plain": [
       "300"
      ]
     },
     "execution_count": 3,
     "metadata": {},
     "output_type": "execute_result"
    }
   ],
   "source": [
    "train_imgs = os.listdir(\"Images/train\")\n",
    "len(train_imgs)"
   ]
  },
  {
   "cell_type": "code",
   "execution_count": 4,
   "metadata": {},
   "outputs": [
    {
     "name": "stdout",
     "output_type": "stream",
     "text": [
      "270 30\n"
     ]
    }
   ],
   "source": [
    "train, val = train_test_split(train_imgs, test_size=0.1, random_state=42)\n",
    "print(len(train), len(val))"
   ]
  },
  {
   "cell_type": "code",
   "execution_count": 5,
   "metadata": {},
   "outputs": [],
   "source": [
    "def xml_to_yolo_bbox(bbox, w, h):\n",
    "    x_center = ((bbox[2] + bbox[0]) / 2) / w\n",
    "    y_center = ((bbox[3] + bbox[1]) / 2) / h\n",
    "    width = (bbox[2] - bbox[0]) / w\n",
    "    height = (bbox[3] - bbox[1]) / h\n",
    "    return [x_center, y_center, width, height]"
   ]
  },
  {
   "cell_type": "code",
   "execution_count": 10,
   "metadata": {},
   "outputs": [],
   "source": [
    "cwd = os.getcwd()\n",
    "def creat_dataset(data, dataset_type):\n",
    "    images_path = Path(f\"table/images/{dataset_type}\")\n",
    "    images_path.mkdir(parents=True, exist_ok=True)\n",
    "    labels_path = Path(f\"table/labels/{dataset_type}\")\n",
    "    labels_path.mkdir(parents=True, exist_ok=True)\n",
    "    xml_path =  Path(\"Annotation/train\")\n",
    "    \n",
    "    for img in tqdm(data):\n",
    "        shutil.copy(os.path.join(cwd,\"Images\",\"train\",img), images_path)\n",
    "        \n",
    "        filename = img.split(\".\")[0]\n",
    "        xml_name = filename + \".xml\"\n",
    "        xml_file = os.path.join(xml_path, xml_name)\n",
    "        result, classes = [], []\n",
    "        tree = ET.parse(xml_file)\n",
    "        root = tree.getroot()\n",
    "        width = int(root.find(\"size\").find(\"width\").text)\n",
    "        height = int(root.find(\"size\").find(\"height\").text)\n",
    "        for obj in root.findall('object'):\n",
    "            label = obj.find(\"name\").text\n",
    "            if label not in classes:\n",
    "                classes.append(label)\n",
    "            index = classes.index(label)\n",
    "            pil_bbox = [int(x.text) for x in obj.find(\"bndbox\")]\n",
    "            yolo_bbox = xml_to_yolo_bbox(pil_bbox, width, height)\n",
    "            bbox_string = \" \".join([str(x) for x in yolo_bbox])\n",
    "            result.append(f\"{index} {bbox_string}\")\n",
    "        if result:\n",
    "            with open(os.path.join(labels_path, f\"{filename}.txt\"), \"w\", encoding=\"utf-8\") as f:\n",
    "                f.write(\"\\n\".join(result))"
   ]
  },
  {
   "cell_type": "code",
   "execution_count": 11,
   "metadata": {},
   "outputs": [
    {
     "name": "stderr",
     "output_type": "stream",
     "text": [
      "100%|████████████████████████████████████████████████████████████████████████████| 270/270 [00:07<00:00, 34.07it/s]\n",
      "100%|██████████████████████████████████████████████████████████████████████████████| 30/30 [00:01<00:00, 17.44it/s]\n"
     ]
    }
   ],
   "source": [
    "creat_dataset(train, \"train\")\n",
    "creat_dataset(val, \"val\")"
   ]
  },
  {
   "cell_type": "code",
   "execution_count": null,
   "metadata": {},
   "outputs": [],
   "source": []
  }
 ],
 "metadata": {
  "kernelspec": {
   "display_name": "Python 3",
   "language": "python",
   "name": "python3"
  },
  "language_info": {
   "codemirror_mode": {
    "name": "ipython",
    "version": 3
   },
   "file_extension": ".py",
   "mimetype": "text/x-python",
   "name": "python",
   "nbconvert_exporter": "python",
   "pygments_lexer": "ipython3",
   "version": "3.7.5"
  }
 },
 "nbformat": 4,
 "nbformat_minor": 4
}
